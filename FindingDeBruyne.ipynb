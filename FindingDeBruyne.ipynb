{
 "cells": [
  {
   "cell_type": "code",
   "execution_count": 2,
   "id": "8d38e435",
   "metadata": {},
   "outputs": [],
   "source": [
    "import tensorflow as tf\n",
    "from tensorflow.keras.preprocessing.image import ImageDataGenerator"
   ]
  },
  {
   "cell_type": "code",
   "execution_count": 33,
   "id": "b5d0bff8",
   "metadata": {},
   "outputs": [
    {
     "name": "stdout",
     "output_type": "stream",
     "text": [
      "Found 60 images belonging to 2 classes.\n"
     ]
    }
   ],
   "source": [
    "train_datagen = ImageDataGenerator(\n",
    "        rescale=1./255,\n",
    "        shear_range=0.2,\n",
    "        zoom_range=0.2,\n",
    "        horizontal_flip=True)\n",
    "training_set = train_datagen.flow_from_directory(\n",
    "        'training_set',\n",
    "        target_size=(64, 64),\n",
    "        batch_size=32,\n",
    "        class_mode='binary')"
   ]
  },
  {
   "cell_type": "code",
   "execution_count": 34,
   "id": "fa87a565",
   "metadata": {},
   "outputs": [
    {
     "name": "stdout",
     "output_type": "stream",
     "text": [
      "Found 30 images belonging to 2 classes.\n"
     ]
    }
   ],
   "source": [
    "test_datagen = ImageDataGenerator(rescale=1./255)\n",
    "test_set = test_datagen.flow_from_directory(\n",
    "        'test_set',\n",
    "        target_size=(64, 64),\n",
    "        batch_size=32,\n",
    "        class_mode='binary')"
   ]
  },
  {
   "cell_type": "code",
   "execution_count": 35,
   "id": "bfaf136e",
   "metadata": {},
   "outputs": [],
   "source": [
    "#Building the CNN\n",
    "cnn = tf.keras.models.Sequential()"
   ]
  },
  {
   "cell_type": "code",
   "execution_count": 36,
   "id": "66b6fdfb",
   "metadata": {},
   "outputs": [],
   "source": [
    "#Convolution\n",
    "cnn.add(\n",
    "    tf.keras.layers.Conv2D(\n",
    "        filters=32, kernel_size=3, strides=(2,2), activation = 'relu', input_shape = [64, 64, 3]\n",
    "    )\n",
    ")"
   ]
  },
  {
   "cell_type": "code",
   "execution_count": 37,
   "id": "48f35bd5",
   "metadata": {},
   "outputs": [],
   "source": [
    "#Applying MaxPooling\n",
    "cnn.add(\n",
    "    tf.keras.layers.MaxPool2D(\n",
    "        pool_size=2, strides=2\n",
    "    )\n",
    ")"
   ]
  },
  {
   "cell_type": "code",
   "execution_count": 38,
   "id": "958dfdd2",
   "metadata": {},
   "outputs": [],
   "source": [
    "#Convolution Layer 2\n",
    "cnn.add(\n",
    "    tf.keras.layers.Conv2D(\n",
    "        filters=32, kernel_size=3, strides=(2,2), activation = 'relu'\n",
    "    )\n",
    ")\n",
    "\n",
    "#Applying MaxPooling\n",
    "cnn.add(\n",
    "    tf.keras.layers.MaxPool2D(\n",
    "        pool_size=2, strides=2\n",
    "    )\n",
    ")"
   ]
  },
  {
   "cell_type": "code",
   "execution_count": 39,
   "id": "2a10799c",
   "metadata": {},
   "outputs": [],
   "source": [
    "#Adding the Flattening Layer\n",
    "cnn.add(\n",
    "    tf.keras.layers.Flatten()\n",
    ")"
   ]
  },
  {
   "cell_type": "code",
   "execution_count": 40,
   "id": "c7e1bc3d",
   "metadata": {},
   "outputs": [],
   "source": [
    "#Adding the artificial neural network to convert this CNN to a tangible product\n",
    "cnn.add(\n",
    "    tf.keras.layers.Dense(units=256, activation = 'relu')\n",
    ")"
   ]
  },
  {
   "cell_type": "code",
   "execution_count": 41,
   "id": "2a64ac0a",
   "metadata": {},
   "outputs": [],
   "source": [
    "#Adding the output layer to the Convolutional Neural Netork\n",
    "cnn.add(\n",
    "    tf.keras.layers.Dense(units=1, activation = 'sigmoid')\n",
    ")"
   ]
  },
  {
   "cell_type": "code",
   "execution_count": 42,
   "id": "a62e2026",
   "metadata": {},
   "outputs": [],
   "source": [
    "#Training the CNN\n",
    "cnn.compile(\n",
    "    optimizer = \"adam\",\n",
    "    loss = \"binary_crossentropy\",\n",
    "    metrics = [\"accuracy\"]\n",
    ")"
   ]
  },
  {
   "cell_type": "code",
   "execution_count": 43,
   "id": "6ea8f993",
   "metadata": {},
   "outputs": [
    {
     "name": "stdout",
     "output_type": "stream",
     "text": [
      "Epoch 1/25\n",
      "2/2 [==============================] - 2s 1s/step - loss: 0.6981 - accuracy: 0.4833 - val_loss: 0.6876 - val_accuracy: 0.5000\n",
      "Epoch 2/25\n",
      "2/2 [==============================] - 2s 905ms/step - loss: 0.6825 - accuracy: 0.5833 - val_loss: 0.6798 - val_accuracy: 0.6000\n",
      "Epoch 3/25\n",
      "2/2 [==============================] - 2s 1s/step - loss: 0.6684 - accuracy: 0.7000 - val_loss: 0.6703 - val_accuracy: 0.6000\n",
      "Epoch 4/25\n",
      "2/2 [==============================] - 2s 920ms/step - loss: 0.6587 - accuracy: 0.6833 - val_loss: 0.6652 - val_accuracy: 0.6667\n",
      "Epoch 5/25\n",
      "2/2 [==============================] - 2s 1s/step - loss: 0.6491 - accuracy: 0.6500 - val_loss: 0.6535 - val_accuracy: 0.5667\n",
      "Epoch 6/25\n",
      "2/2 [==============================] - 2s 1s/step - loss: 0.6420 - accuracy: 0.6667 - val_loss: 0.6509 - val_accuracy: 0.6667\n",
      "Epoch 7/25\n",
      "2/2 [==============================] - 2s 894ms/step - loss: 0.6363 - accuracy: 0.7000 - val_loss: 0.6391 - val_accuracy: 0.6667\n",
      "Epoch 8/25\n",
      "2/2 [==============================] - 2s 958ms/step - loss: 0.6178 - accuracy: 0.7333 - val_loss: 0.6386 - val_accuracy: 0.6333\n",
      "Epoch 9/25\n",
      "2/2 [==============================] - 2s 1s/step - loss: 0.5956 - accuracy: 0.7333 - val_loss: 0.6230 - val_accuracy: 0.7000\n",
      "Epoch 10/25\n",
      "2/2 [==============================] - 2s 962ms/step - loss: 0.5895 - accuracy: 0.7167 - val_loss: 0.6167 - val_accuracy: 0.7000\n",
      "Epoch 11/25\n",
      "2/2 [==============================] - 2s 1s/step - loss: 0.5655 - accuracy: 0.7333 - val_loss: 0.6000 - val_accuracy: 0.6667\n",
      "Epoch 12/25\n",
      "2/2 [==============================] - 2s 1s/step - loss: 0.5614 - accuracy: 0.7667 - val_loss: 0.5929 - val_accuracy: 0.7000\n",
      "Epoch 13/25\n",
      "2/2 [==============================] - 2s 903ms/step - loss: 0.5505 - accuracy: 0.7833 - val_loss: 0.5931 - val_accuracy: 0.7000\n",
      "Epoch 14/25\n",
      "2/2 [==============================] - 2s 912ms/step - loss: 0.5495 - accuracy: 0.7833 - val_loss: 0.6023 - val_accuracy: 0.6333\n",
      "Epoch 15/25\n",
      "2/2 [==============================] - 2s 1s/step - loss: 0.5456 - accuracy: 0.7500 - val_loss: 0.6192 - val_accuracy: 0.6667\n",
      "Epoch 16/25\n",
      "2/2 [==============================] - 2s 1s/step - loss: 0.5357 - accuracy: 0.7667 - val_loss: 0.5752 - val_accuracy: 0.7333\n",
      "Epoch 17/25\n",
      "2/2 [==============================] - 2s 1s/step - loss: 0.5008 - accuracy: 0.8333 - val_loss: 0.5719 - val_accuracy: 0.7000\n",
      "Epoch 18/25\n",
      "2/2 [==============================] - 2s 1s/step - loss: 0.5731 - accuracy: 0.7000 - val_loss: 0.6035 - val_accuracy: 0.6333\n",
      "Epoch 19/25\n",
      "2/2 [==============================] - 2s 1s/step - loss: 0.5068 - accuracy: 0.7667 - val_loss: 0.5672 - val_accuracy: 0.6667\n",
      "Epoch 20/25\n",
      "2/2 [==============================] - 2s 1s/step - loss: 0.5166 - accuracy: 0.7833 - val_loss: 0.5714 - val_accuracy: 0.7000\n",
      "Epoch 21/25\n",
      "2/2 [==============================] - 2s 1s/step - loss: 0.4940 - accuracy: 0.8000 - val_loss: 0.5871 - val_accuracy: 0.6333\n",
      "Epoch 22/25\n",
      "2/2 [==============================] - 2s 1s/step - loss: 0.4918 - accuracy: 0.7833 - val_loss: 0.5779 - val_accuracy: 0.6667\n",
      "Epoch 23/25\n",
      "2/2 [==============================] - 2s 1s/step - loss: 0.4825 - accuracy: 0.7500 - val_loss: 0.5612 - val_accuracy: 0.7333\n",
      "Epoch 24/25\n",
      "2/2 [==============================] - 2s 1s/step - loss: 0.4760 - accuracy: 0.8000 - val_loss: 0.5556 - val_accuracy: 0.7000\n",
      "Epoch 25/25\n",
      "2/2 [==============================] - 2s 1s/step - loss: 0.4730 - accuracy: 0.7667 - val_loss: 0.5525 - val_accuracy: 0.7000\n"
     ]
    },
    {
     "data": {
      "text/plain": [
       "<tensorflow.python.keras.callbacks.History at 0x1d6c6f71220>"
      ]
     },
     "execution_count": 43,
     "metadata": {},
     "output_type": "execute_result"
    }
   ],
   "source": [
    "cnn.fit(x=training_set, validation_data = test_set, epochs=25)"
   ]
  },
  {
   "cell_type": "code",
   "execution_count": 91,
   "id": "44efcdf9",
   "metadata": {},
   "outputs": [
    {
     "data": {
      "text/plain": [
       "{'kdb': 0, 'zin': 1}"
      ]
     },
     "execution_count": 91,
     "metadata": {},
     "output_type": "execute_result"
    }
   ],
   "source": [
    "import numpy as np\n",
    "from tensorflow.keras.preprocessing import image\n",
    "test_image = image.load_img('real_test/kdb.16.jpg', target_size=(64,64))\n",
    "test_image = image.img_to_array(test_image)\n",
    "test_image = np.expand_dims(test_image, axis=0)\n",
    "result = cnn.predict_classes(test_image)\n",
    "prediction = cnn.predict_proba(test_image)\n",
    "training_set.class_indices"
   ]
  },
  {
   "cell_type": "code",
   "execution_count": 92,
   "id": "33d5c52f",
   "metadata": {},
   "outputs": [
    {
     "name": "stdout",
     "output_type": "stream",
     "text": [
      "[[0]]\n"
     ]
    }
   ],
   "source": [
    "print(result)"
   ]
  },
  {
   "cell_type": "code",
   "execution_count": 93,
   "id": "bff25baa",
   "metadata": {},
   "outputs": [
    {
     "name": "stdout",
     "output_type": "stream",
     "text": [
      "Kevin De Bruyne\n",
      "-----------\n",
      "[[1.7033576e-13]]\n"
     ]
    }
   ],
   "source": [
    "if result[0][0] == 0:\n",
    "    print(\"Kevin De Bruyne\")\n",
    "else:\n",
    "    print(\"O. Zinchenko\")\n",
    "\n",
    "print(\"-----------\")\n",
    "print(prediction)"
   ]
  },
  {
   "cell_type": "code",
   "execution_count": null,
   "id": "d8bcab07",
   "metadata": {},
   "outputs": [],
   "source": []
  }
 ],
 "metadata": {
  "kernelspec": {
   "display_name": "Python 3",
   "language": "python",
   "name": "python3"
  },
  "language_info": {
   "codemirror_mode": {
    "name": "ipython",
    "version": 3
   },
   "file_extension": ".py",
   "mimetype": "text/x-python",
   "name": "python",
   "nbconvert_exporter": "python",
   "pygments_lexer": "ipython3",
   "version": "3.8.8"
  }
 },
 "nbformat": 4,
 "nbformat_minor": 5
}
